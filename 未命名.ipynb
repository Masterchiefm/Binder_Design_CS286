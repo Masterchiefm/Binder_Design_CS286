{
 "cells": [
  {
   "cell_type": "code",
   "execution_count": 34,
   "id": "95c2377c-83f5-4e99-a47b-0880d08b4c72",
   "metadata": {},
   "outputs": [],
   "source": [
    "################################################################################\n",
    "#                     Please eidt the following cell\n",
    "# Target Infomation\n",
    "target_protein_pdb = \"~/RFdiffusion/examples/input_pdbs/AF-PD1.pdb\"\n",
    "ppi_hotspot_res=\"A31,A47,A48,A93,A96\"\n",
    "\n",
    "\n",
    "\n",
    "# Binder Information\n",
    "use_example = False\n",
    "binder_template = \"~/RFdiffusion/examples/input_pdbs/\"\n",
    "\n",
    "# Output Path\n",
    "output_folder = \"RF_out\"\n",
    "\n",
    "\n",
    "# Other configurations\n",
    "## RF structure generation params\n",
    "num_designs=10\n",
    "noise_scale_ca=0.2\n",
    "noise_scale_frame=0.1\n",
    "\n",
    "\n",
    "## Structure Filter params\n",
    "max_Rg = 13\n",
    "max_distance = 5.5\n",
    "top_n = 100\n",
    "\n",
    "## ProteinMPNN Sequence generation params\n",
    "temperature = 0.25\n",
    "seqs_per_struct = 3\n",
    "\n",
    "\n",
    "################################################################################"
   ]
  },
  {
   "cell_type": "code",
   "execution_count": 22,
   "id": "acbdaaf4-294b-4142-afa7-9f154c35d358",
   "metadata": {},
   "outputs": [],
   "source": [
    "import os\n",
    "import sys\n",
    "from os.path import abspath\n",
    "from pathlib import Path"
   ]
  },
  {
   "cell_type": "code",
   "execution_count": 23,
   "id": "228380ea-6818-46ea-82f7-925e32d00dac",
   "metadata": {},
   "outputs": [
    {
     "data": {
      "text/plain": [
       "0"
      ]
     },
     "execution_count": 23,
     "metadata": {},
     "output_type": "execute_result"
    }
   ],
   "source": [
    "# 根据输入修改成RF接受的样式。\n",
    "target_protein_pdb = abspath(os.path.expanduser(target_protein_pdb))\n",
    "target_name = Path(target_protein_pdb).stem\n",
    "ppi_hotspot_res = f'ppi.hotspot_res=[{ppi_hotspot_res}]'\n",
    "\n",
    "output_folder = abspath(os.path.expanduser(output_folder))\n",
    "os.system(f'mkdir -p {output_folder}')"
   ]
  },
  {
   "cell_type": "code",
   "execution_count": 24,
   "id": "e49dc64b-e03b-45e4-be51-3af6e0bda0fb",
   "metadata": {},
   "outputs": [
    {
     "data": {
      "text/plain": [
       "'ppi.hotspot_res=[A31,A47,A48,A93,A96]'"
      ]
     },
     "execution_count": 24,
     "metadata": {},
     "output_type": "execute_result"
    }
   ],
   "source": [
    "ppi_hotspot_res"
   ]
  },
  {
   "cell_type": "code",
   "execution_count": 25,
   "id": "f58f2e07-6931-4b03-ae61-ecdd35622cb7",
   "metadata": {},
   "outputs": [
    {
     "data": {
      "text/plain": [
       "'/home/chief/Binder_Design_CS286/RF_out'"
      ]
     },
     "execution_count": 25,
     "metadata": {},
     "output_type": "execute_result"
    }
   ],
   "source": [
    "output_folder"
   ]
  },
  {
   "cell_type": "code",
   "execution_count": 26,
   "id": "5a77f2a4-9cd2-48ff-957b-b72744c039ed",
   "metadata": {},
   "outputs": [
    {
     "name": "stdout",
     "output_type": "stream",
     "text": [
      "/home/chief/Binder_Design_CS286\n"
     ]
    },
    {
     "name": "stderr",
     "output_type": "stream",
     "text": [
      "Error: mkl-service + Intel(R) MKL: MKL_THREADING_LAYER=INTEL is incompatible with libgomp.so.1 library.\n",
      "\tTry to import numpy first or set the threading layer accordingly. Set MKL_SERVICE_FORCE_INTEL to force it.\n"
     ]
    },
    {
     "name": "stdout",
     "output_type": "stream",
     "text": [
      "/home/chief/Binder_Design_CS286\n"
     ]
    },
    {
     "name": "stderr",
     "output_type": "stream",
     "text": [
      "Error: mkl-service + Intel(R) MKL: MKL_THREADING_LAYER=INTEL is incompatible with libgomp.so.1 library.\n",
      "\tTry to import numpy first or set the threading layer accordingly. Set MKL_SERVICE_FORCE_INTEL to force it.\n"
     ]
    }
   ],
   "source": [
    "# target 骨架生成\n",
    "os.system(f\"mkdir -p structure_adj/{target_name}\")\n",
    "out = abspath(os.path.expanduser(f'structure_adj/{target_name}'))\n",
    "os.system(f\"utils/pdb_make_structure_adj.sh  {target_protein_pdb}  {out}\")\n",
    "\n",
    "target_ss = abspath(os.path.expanduser(f'structure_adj/{target_name}/{target_name}_ss.pt'))\n",
    "target_adj = abspath(os.path.expanduser(f'structure_adj/{target_name}/{target_name}_adj.pt'))\n",
    "#Binder 参考骨架生成\n",
    "if use_example:\n",
    "    binder_adj = os.path.expanduser(\"env_config/RFdiffusion/examples/ppi_scaffolds/\")\n",
    "else:\n",
    "    if os.path.isfile(binder_template):\n",
    "        # 提供的文件\n",
    "        binder_name = Path(binder_template).stem\n",
    "        os.system(f\"mkdir -p structure_adj/{binder_name}\")\n",
    "        os.system(f\"utils/pdb_make_structure_adj.sh  {binder_template}  structure_adj/{binder_name}\")\n",
    "    else:\n",
    "        binder_name = Path(binder_template).stem\n",
    "        os.system(f\"mkdir -p structure_adj/{binder_name}\")\n",
    "        os.system(f\"utils/pdb_dir_make_structure_adj.sh  {binder_template}  structure_adj/{binder_name}\")\n",
    "\n",
    "    binder_adj = abspath(os.path.expanduser(f\"structure_adj/{binder_name}\"))"
   ]
  },
  {
   "cell_type": "code",
   "execution_count": 38,
   "id": "40320c88-9fb0-41e4-8fa6-88bc5c261fd4",
   "metadata": {},
   "outputs": [
    {
     "data": {
      "text/plain": [
       "0"
      ]
     },
     "execution_count": 38,
     "metadata": {},
     "output_type": "execute_result"
    }
   ],
   "source": [
    "RF_out = os.path.join(output_folder,'design_ppi_scaffolded/design_ppi_scaffolded')\n",
    "# os.system(f'mkdir -p {RF_out}')\n",
    "script = f\"\"\"scaffoldguided.target_path={target_protein_pdb}\n",
    "inference.output_prefix={RF_out}\n",
    "scaffoldguided.scaffoldguided=True\n",
    "'{ppi_hotspot_res}'\n",
    "scaffoldguided.target_pdb=True\n",
    "scaffoldguided.target_ss={target_ss}\n",
    "scaffoldguided.target_adj={target_adj}\n",
    "scaffoldguided.scaffold_dir={binder_adj}\n",
    "inference.num_designs={num_designs}\n",
    "denoiser.noise_scale_ca={noise_scale_ca}\n",
    "denoiser.noise_scale_frame={noise_scale_frame}\n",
    "\"\"\".replace(\"\\n\",\"  \")\n",
    "\n",
    "bash_script = f\"\"\"#!/bin/bash\n",
    "source ~/miniconda3/bin/activate binder_design\n",
    "# cd ..\n",
    "pwd\n",
    "python env_config/RFdiffusion/scripts/run_inference.py {script}\n",
    "\"\"\"\n",
    "\n",
    "with open(\".tmp.sh\",'w') as f:\n",
    "    f.write(bash_script)\n",
    "    \n",
    "os.system(\"chmod 777 .tmp.sh\")\n",
    "\n",
    "# os.system(\"bash .tmp.sh\")\n",
    "os.system(\"rm -rf .tmp.sh\")\n",
    "#"
   ]
  },
  {
   "cell_type": "markdown",
   "id": "91abb4c2-4fd0-4144-b0cc-14e78c2f4995",
   "metadata": {},
   "source": [
    "---------------"
   ]
  },
  {
   "cell_type": "markdown",
   "id": "8bea60a5-deb7-4bcf-9987-25bd20b546df",
   "metadata": {},
   "source": [
    "# structure Filter\n",
    "## Filter by Rg Score\n"
   ]
  },
  {
   "cell_type": "code",
   "execution_count": 39,
   "id": "2c8b048d-7403-489d-b71c-f1ac5faab4ca",
   "metadata": {},
   "outputs": [],
   "source": []
  },
  {
   "cell_type": "code",
   "execution_count": 46,
   "id": "f0c03f05-fd04-45c2-a8fc-be1c017717af",
   "metadata": {},
   "outputs": [
    {
     "name": "stderr",
     "output_type": "stream",
     "text": [
      "Filtering PPI structures: 100%|███████████████| 506/506 [00:14<00:00, 36.14it/s]"
     ]
    },
    {
     "name": "stdout",
     "output_type": "stream",
     "text": [
      "369 of 506 passed the evaluation.(72.9%)\n"
     ]
    },
    {
     "name": "stderr",
     "output_type": "stream",
     "text": [
      "\n"
     ]
    }
   ],
   "source": [
    "# Filter out structures with long α-helix and \n",
    "# chains with long distance.\n",
    "\n",
    "from utils.utils import get_Rg_score, get_min_distance, cal_mass\n",
    "from tqdm import tqdm\n",
    "# RF_out = \"/home/chief/桌面/500_2/\"\n",
    "RF_out_path = os.path.dirname(RF_out)\n",
    "structures = os.listdir(RF_out_path)\n",
    "filtered_pdbs = []\n",
    "filtered_pdb_path = os.path.join(output_folder,\"filtered_structures\")\n",
    "os.system(f'mkdir -p {filtered_pdb_path}')\n",
    "\n",
    "bar = tqdm(structures)\n",
    "bar.set_description(\"Filtering PPI structures\")\n",
    "for i in bar:\n",
    "    if \"pdb\" in i[-3:]:\n",
    "        path = os.path.join(RF_out_path,i)\n",
    "        rg = get_Rg_score(path, chain='A')\n",
    "\n",
    "        ##########################\n",
    "        #  To be updated to calculate the dstance between interaction surface.\n",
    "        #  现在是只计算最短的两个点之间的距离。\n",
    "        d = get_min_distance(path)\n",
    "        ##########################\n",
    "        # bar.set_postfix_str(f\"{i}: Rg={rg:.2f}, distance={d:.2f}\")\n",
    "        if rg < max_Rg and d < max_distance:\n",
    "            filtered_pdbs.append(path)\n",
    "            os.system(f\"cp {path} {filtered_pdb_path}\")\n",
    "p = len(filtered_pdbs)/len(structures) * 100\n",
    "print(f\"{len(filtered_pdbs)} of {len(structures)} passed the evaluation.({p:.1f}%)\")"
   ]
  },
  {
   "cell_type": "code",
   "execution_count": 49,
   "id": "48d9ea04-d7b2-473b-ae96-794f7601fc85",
   "metadata": {},
   "outputs": [
    {
     "data": {
      "text/plain": [
       "'/home/chief/Binder_Design_CS286/RF_out/filtered_structures'"
      ]
     },
     "execution_count": 49,
     "metadata": {},
     "output_type": "execute_result"
    }
   ],
   "source": [
    "filtered_pdb_path"
   ]
  },
  {
   "cell_type": "markdown",
   "id": "fd37180e-178e-4e63-b908-01124d2ebb52",
   "metadata": {},
   "source": [
    "-----------------\n",
    "# ProteinMPNN"
   ]
  },
  {
   "cell_type": "code",
   "execution_count": 70,
   "id": "549adadc-bc0b-4922-8509-f9ba375614a2",
   "metadata": {},
   "outputs": [
    {
     "data": {
      "text/plain": [
       "'bash utils/run_MPNN_inference.sh /home/chief/Binder_Design_CS286/RF_out/filtered_structures /home/chief/Binder_Design_CS286/RF_out/MPNN_out  0.25 3'"
      ]
     },
     "execution_count": 70,
     "metadata": {},
     "output_type": "execute_result"
    }
   ],
   "source": [
    "filtered_pdb_path\n",
    "MPNN_out_path = abspath(os.path.join(output_folder,\"MPNN_out\"))\n",
    "os.system(f\"bash utils/run_MPNN_inference.sh {filtered_pdb_path} {MPNN_out_path}  {temperature} {seqs_per_struct}\")"
   ]
  },
  {
   "cell_type": "markdown",
   "id": "b430c216-4ee2-4d64-9646-7d8275d8445e",
   "metadata": {},
   "source": [
    "-----------\n",
    "# AF predict and Ranking\n"
   ]
  },
  {
   "cell_type": "code",
   "execution_count": 74,
   "id": "1e03b9c3-45f6-4368-9c19-56ebb1cc665c",
   "metadata": {},
   "outputs": [
    {
     "data": {
      "text/plain": [
       "'bash utils/run_AF_predict.sh /home/chief/Binder_Design_CS286/RF_out/MPNN_out /home/chief/Binder_Design_CS286/RF_out/AF_out'"
      ]
     },
     "execution_count": 74,
     "metadata": {},
     "output_type": "execute_result"
    }
   ],
   "source": [
    "AF_out_path = abspath(os.path.join(output_folder,\"AF_out\"))\n",
    "os.system(f\"bash utils/run_AF_predict.sh {MPNN_out_path} {AF_out_path}\")"
   ]
  },
  {
   "cell_type": "code",
   "execution_count": 87,
   "id": "0d72fa19-4bf9-4fce-a104-0071fb0f38fc",
   "metadata": {},
   "outputs": [],
   "source": [
    "def check_output(path):\n",
    "    \"\"\"用来判断这一步是否完整执行。\n",
    "    即执行完了文件夹中应该有PDB文件，若无，终止程序\n",
    "    \"\"\"\n",
    "    try:\n",
    "        files = os.listdir(path)\n",
    "    except Exception as e:\n",
    "        print(e)\n",
    "        files = []\n",
    "    for i in files:\n",
    "        if \"pdb\" in i[-4:]:\n",
    "            return\n",
    "    print(\"Out put folder is empty! please check the erro above.\")\n",
    "    # sys.exit()\n",
    "    exit()"
   ]
  },
  {
   "cell_type": "code",
   "execution_count": 88,
   "id": "36c258c1-1057-4209-bfa6-ff286fffe00c",
   "metadata": {},
   "outputs": [
    {
     "name": "stdout",
     "output_type": "stream",
     "text": [
      "[Errno 2] No such file or directory: 'MPNN'\n",
      "Out put folder is empty! please check the erro above.\n"
     ]
    }
   ],
   "source": [
    "check_output('MPNN')"
   ]
  },
  {
   "cell_type": "code",
   "execution_count": 12,
   "id": "e793c9ba-5bf6-4423-8cc4-110cebda94ab",
   "metadata": {},
   "outputs": [],
   "source": []
  },
  {
   "cell_type": "code",
   "execution_count": 86,
   "id": "69c456ba-9975-49ff-8718-a3592563d043",
   "metadata": {},
   "outputs": [
    {
     "data": {
      "text/plain": [
       "0"
      ]
     },
     "execution_count": 86,
     "metadata": {},
     "output_type": "execute_result"
    }
   ],
   "source": [
    "import pandas as pd\n",
    "with open(\"out.sc\",'r') as f:\n",
    "    content = f.readlines()\n",
    "    \n",
    "sheet = \"\"\n",
    "for i in content:\n",
    "    l = \",\".join(i.split()) + '\\n'\n",
    "    sheet += l\n",
    "\n",
    "score_file = abspath(os.path.join(output_folder,\"score.csv\"))\n",
    "\n",
    "# 直接写入比操作pandas快\n",
    "with open(score_file, 'w') as f:\n",
    "    f.write(sheet)\n",
    "\n",
    "sheet = pd.read_csv(score_file)\n",
    "sorted_sheet = sheet.sort_values(by=sheet.columns[3])\n",
    "top = sorted_sheet.head(top_n)\n",
    "top_score_file = abspath(os.path.join(output_folder,\"top_n_score.csv\"))\n",
    "top.to_csv(top_score_file, index=0)\n",
    "\n",
    "top_file_path = abspath(os.path.join(output_folder,\"top_n\"))\n",
    "os.system(f'mkdir -p {top_file_path}')\n"
   ]
  },
  {
   "cell_type": "code",
   "execution_count": 95,
   "id": "9e4a3cd4-309e-4812-9307-773af4f30b79",
   "metadata": {},
   "outputs": [],
   "source": [
    "sequences = []\n",
    "for i in top.index:\n",
    "    name = top.loc[i]['description']\n",
    "    pdb = os.path.join(AF_out_path, f'{name}.pdb')\n",
    "    os.system(f\"cp {pdb} {top_file_path}\")\n",
    "    seq = extract_chain_sequence(pdb)\n",
    "    sequences.append(seq)\n",
    "    \n",
    "top = top.assign(sequence=sequences)\n",
    "top.to_csv(top_score_file, index=0)"
   ]
  },
  {
   "cell_type": "code",
   "execution_count": 96,
   "id": "a0fd6760-9f8f-41ed-99a1-c5ad3e62e6f4",
   "metadata": {},
   "outputs": [
    {
     "data": {
      "text/html": [
       "<div>\n",
       "<style scoped>\n",
       "    .dataframe tbody tr th:only-of-type {\n",
       "        vertical-align: middle;\n",
       "    }\n",
       "\n",
       "    .dataframe tbody tr th {\n",
       "        vertical-align: top;\n",
       "    }\n",
       "\n",
       "    .dataframe thead th {\n",
       "        text-align: right;\n",
       "    }\n",
       "</style>\n",
       "<table border=\"1\" class=\"dataframe\">\n",
       "  <thead>\n",
       "    <tr style=\"text-align: right;\">\n",
       "      <th></th>\n",
       "      <th>SCORE:</th>\n",
       "      <th>binder_aligned_rmsd</th>\n",
       "      <th>pae_binder</th>\n",
       "      <th>pae_interaction</th>\n",
       "      <th>pae_target</th>\n",
       "      <th>plddt_binder</th>\n",
       "      <th>plddt_target</th>\n",
       "      <th>plddt_total</th>\n",
       "      <th>target_aligned_rmsd</th>\n",
       "      <th>time</th>\n",
       "      <th>description</th>\n",
       "      <th>sequence</th>\n",
       "    </tr>\n",
       "  </thead>\n",
       "  <tbody>\n",
       "    <tr>\n",
       "      <th>0</th>\n",
       "      <td>SCORE:</td>\n",
       "      <td>0.587</td>\n",
       "      <td>2.726</td>\n",
       "      <td>23.131</td>\n",
       "      <td>4.165</td>\n",
       "      <td>91.710</td>\n",
       "      <td>92.093</td>\n",
       "      <td>91.970</td>\n",
       "      <td>3.201</td>\n",
       "      <td>135.755</td>\n",
       "      <td>design_PD1_ppi_scaffolded_ns3_446_dldesign_0_a...</td>\n",
       "      <td>GQVNITELPSGTTIVTADTARDSILAGIEIKKQYEAEGYKATLVQR...</td>\n",
       "    </tr>\n",
       "    <tr>\n",
       "      <th>1</th>\n",
       "      <td>SCORE:</td>\n",
       "      <td>1.243</td>\n",
       "      <td>4.037</td>\n",
       "      <td>28.278</td>\n",
       "      <td>3.921</td>\n",
       "      <td>85.137</td>\n",
       "      <td>93.417</td>\n",
       "      <td>90.565</td>\n",
       "      <td>18.003</td>\n",
       "      <td>123.345</td>\n",
       "      <td>design_PD1_ppi_scaffolded_ns3_266_dldesign_2_a...</td>\n",
       "      <td>LKVTSSGPPGDQQTLGDAAKALGAEWTALDGPPEEKRFTVEHKGKT...</td>\n",
       "    </tr>\n",
       "  </tbody>\n",
       "</table>\n",
       "</div>"
      ],
      "text/plain": [
       "   SCORE:  binder_aligned_rmsd  pae_binder  pae_interaction  pae_target  \\\n",
       "0  SCORE:                0.587       2.726           23.131       4.165   \n",
       "1  SCORE:                1.243       4.037           28.278       3.921   \n",
       "\n",
       "   plddt_binder  plddt_target  plddt_total  target_aligned_rmsd     time  \\\n",
       "0        91.710        92.093       91.970                3.201  135.755   \n",
       "1        85.137        93.417       90.565               18.003  123.345   \n",
       "\n",
       "                                         description  \\\n",
       "0  design_PD1_ppi_scaffolded_ns3_446_dldesign_0_a...   \n",
       "1  design_PD1_ppi_scaffolded_ns3_266_dldesign_2_a...   \n",
       "\n",
       "                                            sequence  \n",
       "0  GQVNITELPSGTTIVTADTARDSILAGIEIKKQYEAEGYKATLVQR...  \n",
       "1  LKVTSSGPPGDQQTLGDAAKALGAEWTALDGPPEEKRFTVEHKGKT...  "
      ]
     },
     "execution_count": 96,
     "metadata": {},
     "output_type": "execute_result"
    }
   ],
   "source": [
    "top"
   ]
  },
  {
   "cell_type": "code",
   "execution_count": 94,
   "id": "8b6f7892-ed6e-4461-b7ff-c7b272026bba",
   "metadata": {},
   "outputs": [
    {
     "data": {
      "text/html": [
       "<div>\n",
       "<style scoped>\n",
       "    .dataframe tbody tr th:only-of-type {\n",
       "        vertical-align: middle;\n",
       "    }\n",
       "\n",
       "    .dataframe tbody tr th {\n",
       "        vertical-align: top;\n",
       "    }\n",
       "\n",
       "    .dataframe thead th {\n",
       "        text-align: right;\n",
       "    }\n",
       "</style>\n",
       "<table border=\"1\" class=\"dataframe\">\n",
       "  <thead>\n",
       "    <tr style=\"text-align: right;\">\n",
       "      <th></th>\n",
       "      <th>SCORE:</th>\n",
       "      <th>binder_aligned_rmsd</th>\n",
       "      <th>pae_binder</th>\n",
       "      <th>pae_interaction</th>\n",
       "      <th>pae_target</th>\n",
       "      <th>plddt_binder</th>\n",
       "      <th>plddt_target</th>\n",
       "      <th>plddt_total</th>\n",
       "      <th>target_aligned_rmsd</th>\n",
       "      <th>time</th>\n",
       "      <th>description</th>\n",
       "      <th>sequence</th>\n",
       "    </tr>\n",
       "  </thead>\n",
       "  <tbody>\n",
       "    <tr>\n",
       "      <th>0</th>\n",
       "      <td>SCORE:</td>\n",
       "      <td>0.587</td>\n",
       "      <td>2.726</td>\n",
       "      <td>23.131</td>\n",
       "      <td>4.165</td>\n",
       "      <td>91.710</td>\n",
       "      <td>92.093</td>\n",
       "      <td>91.970</td>\n",
       "      <td>3.201</td>\n",
       "      <td>135.755</td>\n",
       "      <td>design_PD1_ppi_scaffolded_ns3_446_dldesign_0_a...</td>\n",
       "      <td>GQVNITELPSGTTIVTADTARDSILAGIEIKKQYEAEGYKATLVQR...</td>\n",
       "    </tr>\n",
       "    <tr>\n",
       "      <th>1</th>\n",
       "      <td>SCORE:</td>\n",
       "      <td>1.243</td>\n",
       "      <td>4.037</td>\n",
       "      <td>28.278</td>\n",
       "      <td>3.921</td>\n",
       "      <td>85.137</td>\n",
       "      <td>93.417</td>\n",
       "      <td>90.565</td>\n",
       "      <td>18.003</td>\n",
       "      <td>123.345</td>\n",
       "      <td>design_PD1_ppi_scaffolded_ns3_266_dldesign_2_a...</td>\n",
       "      <td>LKVTSSGPPGDQQTLGDAAKALGAEWTALDGPPEEKRFTVEHKGKT...</td>\n",
       "    </tr>\n",
       "  </tbody>\n",
       "</table>\n",
       "</div>"
      ],
      "text/plain": [
       "   SCORE:  binder_aligned_rmsd  pae_binder  pae_interaction  pae_target  \\\n",
       "0  SCORE:                0.587       2.726           23.131       4.165   \n",
       "1  SCORE:                1.243       4.037           28.278       3.921   \n",
       "\n",
       "   plddt_binder  plddt_target  plddt_total  target_aligned_rmsd     time  \\\n",
       "0        91.710        92.093       91.970                3.201  135.755   \n",
       "1        85.137        93.417       90.565               18.003  123.345   \n",
       "\n",
       "                                         description  \\\n",
       "0  design_PD1_ppi_scaffolded_ns3_446_dldesign_0_a...   \n",
       "1  design_PD1_ppi_scaffolded_ns3_266_dldesign_2_a...   \n",
       "\n",
       "                                            sequence  \n",
       "0  GQVNITELPSGTTIVTADTARDSILAGIEIKKQYEAEGYKATLVQR...  \n",
       "1  LKVTSSGPPGDQQTLGDAAKALGAEWTALDGPPEEKRFTVEHKGKT...  "
      ]
     },
     "execution_count": 94,
     "metadata": {},
     "output_type": "execute_result"
    }
   ],
   "source": [
    "top.assign(sequence=sequences)"
   ]
  },
  {
   "cell_type": "code",
   "execution_count": 61,
   "id": "32d17f70-6e20-4301-9e9b-85e75dd7991f",
   "metadata": {},
   "outputs": [
    {
     "data": {
      "text/plain": [
       "True"
      ]
     },
     "execution_count": 61,
     "metadata": {},
     "output_type": "execute_result"
    }
   ],
   "source": [
    "os.path.isfile('/home/chief/Binder_Design_CS286/RF_out/AF_out/design_PD1_ppi_scaffolded_ns3_266_dldesign_2_af2pred.pdb')"
   ]
  },
  {
   "cell_type": "code",
   "execution_count": 73,
   "id": "b1c76f7b-b343-4cb2-ae23-d35afa76f174",
   "metadata": {},
   "outputs": [
    {
     "name": "stdout",
     "output_type": "stream",
     "text": [
      "Got 2 binders.\n"
     ]
    }
   ],
   "source": [
    "from Bio import PDB\n",
    "def extract_chain_sequence(pdb_file_path, chain_id='A'):\n",
    "    # 创建PDB解析器\n",
    "    parser = PDB.PDBParser(QUIET=True)\n",
    "\n",
    "    # 读取PDB文件\n",
    "    structure = parser.get_structure('protein', pdb_file_path)\n",
    "\n",
    "    # 初始化序列\n",
    "    sequence = ''\n",
    "\n",
    "    # 遍历模型\n",
    "    for model in structure:\n",
    "        # 遍历链\n",
    "        for chain in model:\n",
    "            # 检查链ID是否匹配\n",
    "            if chain.id == chain_id:\n",
    "                # 遍历链的残基\n",
    "                for residue in chain:\n",
    "                    # 获取残基的氨基酸代码\n",
    "                    amino_acid = PDB.Polypeptide.three_to_one(residue.get_resname())\n",
    "                    sequence += amino_acid\n",
    "\n",
    "    return sequence\n"
   ]
  },
  {
   "cell_type": "code",
   "execution_count": 75,
   "id": "b89be1c4-c989-4271-baef-17b271b9c065",
   "metadata": {},
   "outputs": [
    {
     "data": {
      "text/html": [
       "<div>\n",
       "<style scoped>\n",
       "    .dataframe tbody tr th:only-of-type {\n",
       "        vertical-align: middle;\n",
       "    }\n",
       "\n",
       "    .dataframe tbody tr th {\n",
       "        vertical-align: top;\n",
       "    }\n",
       "\n",
       "    .dataframe thead th {\n",
       "        text-align: right;\n",
       "    }\n",
       "</style>\n",
       "<table border=\"1\" class=\"dataframe\">\n",
       "  <thead>\n",
       "    <tr style=\"text-align: right;\">\n",
       "      <th></th>\n",
       "      <th>0</th>\n",
       "      <th>1</th>\n",
       "    </tr>\n",
       "  </thead>\n",
       "  <tbody>\n",
       "    <tr>\n",
       "      <th>0</th>\n",
       "      <td>design_PD1_ppi_scaffolded_ns3_266_dldesign_2_a...</td>\n",
       "      <td>LKVTSSGPPGDQQTLGDAAKALGAEWTALDGPPEEKRFTVEHKGKT...</td>\n",
       "    </tr>\n",
       "    <tr>\n",
       "      <th>1</th>\n",
       "      <td>design_PD1_ppi_scaffolded_ns3_446_dldesign_0_a...</td>\n",
       "      <td>GQVNITELPSGTTIVTADTARDSILAGIEIKKQYEAEGYKATLVQR...</td>\n",
       "    </tr>\n",
       "  </tbody>\n",
       "</table>\n",
       "</div>"
      ],
      "text/plain": [
       "                                                   0  \\\n",
       "0  design_PD1_ppi_scaffolded_ns3_266_dldesign_2_a...   \n",
       "1  design_PD1_ppi_scaffolded_ns3_446_dldesign_0_a...   \n",
       "\n",
       "                                                   1  \n",
       "0  LKVTSSGPPGDQQTLGDAAKALGAEWTALDGPPEEKRFTVEHKGKT...  \n",
       "1  GQVNITELPSGTTIVTADTARDSILAGIEIKKQYEAEGYKATLVQR...  "
      ]
     },
     "execution_count": 75,
     "metadata": {},
     "output_type": "execute_result"
    }
   ],
   "source": [
    "pd.DataFrame(binders,columns=[\"file\",\"seq\"])"
   ]
  },
  {
   "cell_type": "code",
   "execution_count": null,
   "id": "8eefdc16-3003-41bd-9fd7-53fb709b287e",
   "metadata": {},
   "outputs": [],
   "source": []
  }
 ],
 "metadata": {
  "kernelspec": {
   "display_name": "Python 3 (ipykernel)",
   "language": "python",
   "name": "python3"
  },
  "language_info": {
   "codemirror_mode": {
    "name": "ipython",
    "version": 3
   },
   "file_extension": ".py",
   "mimetype": "text/x-python",
   "name": "python",
   "nbconvert_exporter": "python",
   "pygments_lexer": "ipython3",
   "version": "3.9.18"
  }
 },
 "nbformat": 4,
 "nbformat_minor": 5
}
