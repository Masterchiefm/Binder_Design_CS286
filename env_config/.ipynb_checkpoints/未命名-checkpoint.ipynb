{
 "cells": [
  {
   "cell_type": "code",
   "execution_count": null,
   "id": "d1007f27-6267-4f49-a621-c9e91bb909eb",
   "metadata": {},
   "outputs": [],
   "source": [
    "import os\n",
    "\n",
    "# get RF diffusion\n",
    "if os.path.isdir(\"RFdiffusion\"):\n",
    "    q = input(\"Found RFdiffusion folder, deleate and re-install? \\n y/n:\")\n",
    "    if q.upper() == \"Y\":\n",
    "        os.system(\"rm -rf RFdiffusion\")\n",
    "        os.system(\"git clone https://github.com/RosettaCommons/RFdiffusion.git\")\n",
    "    else:\n",
    "        print(\"Skip and keep the old one.\")\n",
    "else:\n",
    "    os.system(\"git clone https://github.com/RosettaCommons/RFdiffusion.git\")\n",
    "    \n",
    "\n",
    "\n",
    "if os.path.isdir(\"RFdiffusion/models\"):\n",
    "    q = input(\"Found RFdiffusion weight folder, deleate and re-install? \\n y/n:\")\n",
    "    if q.upper() == \"Y\":\n",
    "        os.system(\"rm -rf RFdiffusion/models\")\n",
    "        print(\"Skip and keep the old one.\")\n",
    "    else:\n",
    "        print(\"Skip and keep the old one.\")\n",
    "else:\n",
    "    os.system(\"bash get_weights.sh\")\n",
    "\n",
    "\n",
    "# example scaffold files to run the scaffolded protein binder design (PPI) \n",
    "print(\"Unzip example scaffold files to run the scaffolded protein binder design (PPI)\")\n",
    "os.system(\"tar -xvf RFdiffusion/examples/ppi_scaffolds_subset.tar.gz -C RFdiffusion/examples/\")\n",
    "print(\"Finnish unzip example scaffold files to run the scaffolded protein binder design (PPI)\")\n",
    "\n",
    "os.system(\"bash configSE3.sh\")"
   ]
  },
  {
   "cell_type": "code",
   "execution_count": 14,
   "id": "b042f397-2171-461a-bdfd-0ec4aea2e19b",
   "metadata": {},
   "outputs": [
    {
     "name": "stdin",
     "output_type": "stream",
     "text": [
      "Found dl_binder_design folder, deleate and re-install? \n",
      " y/n: \n"
     ]
    },
    {
     "name": "stdout",
     "output_type": "stream",
     "text": [
      "Skip and keep the old one.\n"
     ]
    },
    {
     "name": "stderr",
     "output_type": "stream",
     "text": [
      "正克隆到 'dl_binder_design/mpnn_fr/ProteinMPNN'...\n",
      "error: RPC 失败。curl 92 HTTP/2 stream 0 was not closed cleanly: CANCEL (err 8)\n",
      "error: 预期仍然需要 3817 个字节的正文\n",
      "fetch-pack: unexpected disconnect while reading sideband packet\n",
      "fatal: 过早的文件结束符（EOF）\n",
      "fatal: fetch-pack：无效的 index-pack 输出\n"
     ]
    }
   ],
   "source": [
    "import os\n",
    "\n",
    "# get dl_binder_design\n",
    "if os.path.isdir(\"dl_binder_design\"):\n",
    "    q = input(\"Found dl_binder_design folder, deleate and re-install? \\n y/n:\")\n",
    "    if q.upper() == \"Y\":\n",
    "        os.system(\"rm -rf dl_binder_design\")\n",
    "        os.system(\"git clone https://github.com/nrbennet/dl_binder_design.git\")\n",
    "    else:\n",
    "        print(\"Skip and keep the old one.\")\n",
    "else:\n",
    "    os.system(\"git clone https://github.com/nrbennet/dl_binder_design.git\")\n",
    "    \n",
    "# get protein_MPNN\n",
    "if os.path.isdir(\"dl_binder_design/mpnn_fr/ProteinMPNN\"):\n",
    "    q = input(\"Found mpnn folder, deleate and re-install? \\n y/n:\")\n",
    "    if q.upper() == \"Y\":\n",
    "        os.system(\"rm -rf dl_binder_design/mpnn_fr/ProteinMPNN\")\n",
    "        os.system(\"git config --global http.postBuffer 4024288000\")\n",
    "        os.system(\"git clone https://github.com/dauparas/ProteinMPNN.git dl_binder_design/mpnn_fr/ProteinMPNN\")\n",
    "    else:\n",
    "        print(\"Skip and keep the old one.\")\n",
    "else:\n",
    "    os.system(\"git config --global http.postBuffer 4024288000\")\n",
    "    os.system(\"git clone https://github.com/dauparas/ProteinMPNN.git dl_binder_design/mpnn_fr/ProteinMPNN\")"
   ]
  },
  {
   "cell_type": "code",
   "execution_count": null,
   "id": "47b49f6d-963d-43f4-83d6-3b27f349b7f3",
   "metadata": {},
   "outputs": [],
   "source": []
  }
 ],
 "metadata": {
  "kernelspec": {
   "display_name": "Python 3 (ipykernel)",
   "language": "python",
   "name": "python3"
  },
  "language_info": {
   "codemirror_mode": {
    "name": "ipython",
    "version": 3
   },
   "file_extension": ".py",
   "mimetype": "text/x-python",
   "name": "python",
   "nbconvert_exporter": "python",
   "pygments_lexer": "ipython3",
   "version": "3.9.18"
  }
 },
 "nbformat": 4,
 "nbformat_minor": 5
}
